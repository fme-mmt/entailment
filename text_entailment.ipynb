{
 "cells": [
  {
   "cell_type": "code",
   "execution_count": 1,
   "metadata": {
    "collapsed": true
   },
   "outputs": [],
   "source": [
    "import numpy as np\n",
    "import matplotlib as plt\n",
    "import pandas as pd"
   ]
  },
  {
   "cell_type": "code",
   "execution_count": 2,
   "metadata": {},
   "outputs": [
    {
     "name": "stdout",
     "output_type": "stream",
     "text": [
      "1\tBob\t_\tPROPN\tNNP\t_\t2\tnsubj\t_\t_\n",
      "2\tbought\t_\tVERB\tVBD\t_\t0\tROOT\t_\t_\n",
      "3\tthe\t_\tDET\tDT\t_\t4\tdet\t_\t_\n",
      "4\tpizza\t_\tNOUN\tNN\t_\t2\tdobj\t_\t_\n",
      "5\tto\t_\tADP\tIN\t_\t2\tprep\t_\t_\n",
      "6\tAlice\t_\tPROPN\tNNP\t_\t5\tpobj\t_\t_\n"
     ]
    }
   ],
   "source": [
    "import spacy\n",
    "#from spacy import attrs\n",
    "\n",
    "nlp = spacy.load('en', vectors=False)\n",
    "doc = nlp(u'Bob bought the pizza to Alice')\n",
    "\n",
    "for sent in doc.sents:\n",
    "     for i, word in enumerate(sent):\n",
    "         if word.head is word:\n",
    "             head_idx = 0\n",
    "         else:\n",
    "            head_idx = doc[i].head.i+1\n",
    "            \n",
    "         print(\"%d\\t%s\\t%s\\t%s\\t%s\\t%s\\t%d\\t%s\\t%s\\t%s\"%(\n",
    "             i+1, # There's a word.i attr that's position in *doc*\n",
    "             word, # If you want the base-form, you have to change it for \"word.lemma_,\"\n",
    "             '_',\n",
    "             word.pos_, # Coarse-grained tag\n",
    "             word.tag_, # Fine-grained tag\n",
    "             '_',\n",
    "             head_idx,\n",
    "             word.dep_, # Relation\n",
    "'_', '_'))"
   ]
  },
  {
   "cell_type": "code",
   "execution_count": 3,
   "metadata": {},
   "outputs": [
    {
     "name": "stdout",
     "output_type": "stream",
     "text": [
      "[\n",
      "buy,\n",
      "bob;\n",
      "pizza,\n",
      "the;\n",
      "to,\n",
      "alice;\n",
      "    bought      \n",
      "  ____|______    \n",
      " |  pizza    to \n",
      " |    |      |   \n",
      "Bob  the   Alice\n",
      "\n"
     ]
    },
    {
     "data": {
      "text/plain": [
       "[None]"
      ]
     },
     "execution_count": 3,
     "metadata": {},
     "output_type": "execute_result"
    }
   ],
   "source": [
    "import spacy\n",
    "from nltk import Tree\n",
    "nlp = spacy.load('en')\n",
    "\n",
    "doc = nlp(u'Bob bought the pizza to Alice')\n",
    "\n",
    "def to_nltk_tree(node):\n",
    "    if node.n_lefts + node.n_rights > 0:\n",
    "        print(\"%s%s\"%(\n",
    "             node.lemma_, # or \"node.orth_,\" with original form\n",
    "             ','))\n",
    "        return Tree(node.orth_, [to_nltk_tree(child) for child in node.children])\n",
    "    else:\n",
    "        print(\"%s%s\"%(\n",
    "             node.lemma_, # or \"node.orth_,\" with original form\n",
    "             ';'))\n",
    "        return node.orth_\n",
    "print('[')\n",
    "[to_nltk_tree(sent.root).pretty_print() for sent in doc.sents]\n"
   ]
  },
  {
   "cell_type": "code",
   "execution_count": 4,
   "metadata": {},
   "outputs": [
    {
     "name": "stdout",
     "output_type": "stream",
     "text": [
      "buy,\n",
      "bob;\n",
      "pizza,\n",
      "the;\n",
      "to,\n",
      "alice;\n",
      "    bought      \n",
      "  ____|______    \n",
      " |  pizza    to \n",
      " |    |      |   \n",
      "Bob  the   Alice\n",
      "\n"
     ]
    },
    {
     "data": {
      "text/plain": [
       "[None]"
      ]
     },
     "execution_count": 4,
     "metadata": {},
     "output_type": "execute_result"
    }
   ],
   "source": [
    "import spacy\n",
    "from nltk import Tree\n",
    "nlp = spacy.load('en')\n",
    "\n",
    "doc = nlp(u'Bob bought the pizza to Alice')\n",
    "\n",
    "def to_nltk_tree(node):\n",
    "    if node.n_lefts + node.n_rights > 0:\n",
    "        print(\"%s%s\"%(\n",
    "             node.lemma_, # or \"node.orth_,\" with original form\n",
    "             ','))\n",
    "        return Tree(node.orth_, [to_nltk_tree(child) for child in node.children])\n",
    "    else:\n",
    "        print(\"%s%s\"%(\n",
    "             node.lemma_, # or \"node.orth_,\" with original form\n",
    "             ';'))\n",
    "        return node.orth_\n",
    "[to_nltk_tree(sent.root).pretty_print() for sent in doc.sents]"
   ]
  },
  {
   "cell_type": "code",
   "execution_count": 5,
   "metadata": {
    "collapsed": true
   },
   "outputs": [],
   "source": [
    "def parse_sentence(nlp, sentence):\n",
    "    \"\"\"Parse unicode sentence into a NLTK tree\n",
    "    using the spacy parser\"\"\"\n",
    "    doc = nlp(sentence)\n",
    "    trees = [tree_sentence(s.root) for s in doc.sents]\n",
    "    assert len(trees) == 1\n",
    "    return trees[0]\n",
    "\n",
    "def tree_sentence(node):\n",
    "    from nltk import Tree\n",
    "    if node.pos_ in ('VERB', 'NOUN', 'DET'):\n",
    "        tag = node.lemma_\n",
    "    else:\n",
    "        tag = node.orth_\n",
    "\n",
    "    if node.n_lefts + node.n_rights > 0:\n",
    "        return Tree(tag, [tree_sentence(child) for child in node.children])\n",
    "    else:\n",
    "        return tag\n",
    "\n",
    "def parse_tree(nlp, sentence):\n",
    "    \"\"\"Parse tag sentence into a NLTK tree\n",
    "    using the spacy parser\"\"\"\n",
    "    doc = nlp(sentence)\n",
    "    trees = [tree_tree(s.root) for s in doc.sents]\n",
    "    assert len(trees) == 1\n",
    "    return trees[0]\n",
    "\n",
    "def tree_tree(node):\n",
    "    from nltk import Tree\n",
    "    \n",
    "    tag = node.tag_\n",
    "\n",
    "    if node.n_lefts + node.n_rights > 0:\n",
    "        return Tree(tag, [tree_tree(child) for child in node.children])\n",
    "    else:\n",
    "        return tag"
   ]
  },
  {
   "cell_type": "code",
   "execution_count": 6,
   "metadata": {
    "collapsed": true
   },
   "outputs": [],
   "source": [
    "import spacy\n",
    "nlp = spacy.load('en')"
   ]
  },
  {
   "cell_type": "code",
   "execution_count": 17,
   "metadata": {
    "collapsed": true
   },
   "outputs": [],
   "source": [
    "def categorical(s):\n",
    "    if (s == 'every' or s == 'all'):\n",
    "        return 'FORALL'\n",
    "    else:\n",
    "        return 'EXISTS'"
   ]
  },
  {
   "cell_type": "code",
   "execution_count": 18,
   "metadata": {
    "collapsed": true
   },
   "outputs": [],
   "source": [
    "def propi(s):\n",
    "    if (s == 'andreu' or s=='mickey' or s=='jordi' or s=='alejandro'):\n",
    "        return 'EXISTS'\n",
    "    else: return 'FORALL'"
   ]
  },
  {
   "cell_type": "code",
   "execution_count": 19,
   "metadata": {
    "scrolled": false
   },
   "outputs": [
    {
     "name": "stdout",
     "output_type": "stream",
     "text": [
      "> every swede is a scandinavian\n",
      "> \n",
      "       be             \n",
      "   ____|_______        \n",
      "swede     scandinavian\n",
      "  |            |       \n",
      "every          a      \n",
      "\n",
      "None\n",
      "(VBZ (NN DT) (NN DT))\n",
      "['FORALL', ['(AND)', 'swede', 'scandinavian']]\n"
     ]
    }
   ],
   "source": [
    "if __name__ == '__main__':\n",
    "    sentences = []\n",
    "    trees = []\n",
    "    while True:\n",
    "        new_text = input('> ')\n",
    "        if not new_text: break\n",
    "        sentences.append(parse_sentence(nlp, (new_text)))\n",
    "        trees.append(parse_tree(nlp, (new_text)))\n",
    "\n",
    "    for s in sentences:\n",
    "        print(s.pretty_print())\n",
    "\n",
    "    for t in trees:\n",
    "        print(t)\n",
    "        \n",
    "res = []\n",
    "count = 0\n",
    "index = 1\n",
    "for i in range(len(sentences[0])):\n",
    "    if (type(sentences[0][0])==str and type(sentences[0][1])==str and count==0): \n",
    "        res.append(propi(sentences[0][0]))\n",
    "        res.append([])\n",
    "        count += 1\n",
    "        res[1].append('(AND)')\n",
    "        res[1].append(sentences[0][0])\n",
    "    if (type(sentences[0][i])==str and i!=0): res[index].append(sentences[0][i])\n",
    "    if (type(sentences[0][i])!=str):\n",
    "        if(t[i].label()=='NN' or t[i].label()=='NNS'): \n",
    "            for j in range(len(sentences[0][i])):\n",
    "                if(t[i][j]=='DT' and count == 0): \n",
    "                    res.append(categorical(sentences[0][i][j]))\n",
    "                    res.append([])\n",
    "                    res[1].append('(AND)')\n",
    "                    count += 1\n",
    "                else: \n",
    "                    if (t[i][j]!='DT'):\n",
    "                        res[index].append(sentences[0][i][j])\n",
    "            res[index].append(sentences[0][i].label())\n",
    "print(res)\n",
    "\n",
    "# numeros per variables (afegirlos) impliques/ands veure pertinencia"
   ]
  },
  {
   "cell_type": "code",
   "execution_count": 252,
   "metadata": {},
   "outputs": [
    {
     "data": {
      "text/plain": [
       "nltk.tree.Tree"
      ]
     },
     "execution_count": 252,
     "metadata": {},
     "output_type": "execute_result"
    }
   ],
   "source": [
    "type(sentences[0][0])"
   ]
  },
  {
   "cell_type": "code",
   "execution_count": 191,
   "metadata": {},
   "outputs": [
    {
     "data": {
      "image/png": "[encoded data removed]",
      "text/plain": [
       "Tree('be', ['there', Tree('tenor', ['great', Tree('be', ['that', 'german'])])])"
      ]
     },
     "execution_count": 191,
     "metadata": {},
     "output_type": "execute_result"
    }
   ],
   "source": [
    "sentences[0]"
   ]
  },
  {
   "cell_type": "code",
   "execution_count": 190,
   "metadata": {},
   "outputs": [
    {
     "data": {
      "image/png": "[encoded data removed]",
      "text/plain": [
       "Tree('VBP', ['EX', Tree('NNS', ['JJ', Tree('VBP', ['WDT', 'JJ'])])])"
      ]
     },
     "execution_count": 190,
     "metadata": {},
     "output_type": "execute_result"
    }
   ],
   "source": [
    "t"
   ]
  },
  {
   "cell_type": "code",
   "execution_count": 126,
   "metadata": {},
   "outputs": [
    {
     "data": {
      "text/plain": [
       "'NNS'"
      ]
     },
     "execution_count": 126,
     "metadata": {},
     "output_type": "execute_result"
    }
   ],
   "source": [
    "t[0].label()"
   ]
  },
  {
   "cell_type": "code",
   "execution_count": 207,
   "metadata": {},
   "outputs": [
    {
     "data": {
      "text/plain": [
       "[1, [2]]"
      ]
     },
     "execution_count": 207,
     "metadata": {},
     "output_type": "execute_result"
    }
   ],
   "source": [
    "res= []\n",
    "res.append(1)\n",
    "res.append([])\n",
    "res[1].append(2)\n",
    "res"
   ]
  },
  {
   "cell_type": "code",
   "execution_count": 224,
   "metadata": {
    "collapsed": true
   },
   "outputs": [],
   "source": [
    "res = []\n",
    "count = 0\n",
    "index = 1\n",
    "for i in range(len(sentences[0])):\n",
    "    if (type(sentences[0][i])==str): res[index].append(sentences[0][i])\n",
    "    else:\n",
    "        if(t[i].label()=='NN' or t[i].label()=='NNS'): \n",
    "            for j in range(len(sentences[0][i])):\n",
    "                if(t[i][j]=='DT' and count == 0): \n",
    "                    res.append(categorical(sentences[0][i][j]))\n",
    "                    res.append([])\n",
    "                    res[index].append('(AND)')\n",
    "                    count += 1\n",
    "                else: \n",
    "                    if (t[i][j]!='DT'):\n",
    "                        res[index].append(sentences[0][i][j])\n",
    "            res[index].append(sentences[0][i].label())\n",
    "            "
   ]
  },
  {
   "cell_type": "code",
   "execution_count": 223,
   "metadata": {},
   "outputs": [
    {
     "data": {
      "text/plain": [
       "['EXISTS', ['(AND)', 'tenor', 'german']]"
      ]
     },
     "execution_count": 223,
     "metadata": {},
     "output_type": "execute_result"
    }
   ],
   "source": [
    "res"
   ]
  },
  {
   "cell_type": "code",
   "execution_count": 5,
   "metadata": {
    "collapsed": true
   },
   "outputs": [],
   "source": [
    "import spacy\n",
    "nlp = spacy.load('en')"
   ]
  },
  {
   "cell_type": "code",
   "execution_count": null,
   "metadata": {
    "collapsed": true
   },
   "outputs": [],
   "source": [
    "parse_sentence(nlp, )"
   ]
  }
 ],
 "metadata": {
  "kernelspec": {
   "display_name": "Python 3",
   "language": "python",
   "name": "python3"
  },
  "language_info": {
   "codemirror_mode": {
    "name": "ipython",
    "version": 3
   },
   "file_extension": ".py",
   "mimetype": "text/x-python",
   "name": "python",
   "nbconvert_exporter": "python",
   "pygments_lexer": "ipython3",
   "version": "3.6.2"
  }
 },
 "nbformat": 4,
 "nbformat_minor": 2
}
